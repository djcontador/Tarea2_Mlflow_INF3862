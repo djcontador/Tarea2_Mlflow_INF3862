{
 "cells": [
  {
   "cell_type": "code",
   "execution_count": 1,
   "id": "9201fb28",
   "metadata": {},
   "outputs": [
    {
     "name": "stdout",
     "output_type": "stream",
     "text": [
      "(src/model/train_model.py): data loaded\n",
      "(src/model/train_model.py): Saved trained pipeline to property_valuation_pipeline.joblib\n",
      "(src/model/predict_model.py): the model made the prediction\n",
      "RMSE:  10254.155686652393\n",
      "MAPE:  0.40042979298798137\n",
      "MAE :  5859.374796053153\n",
      "(src/model/evaluate_model.py): model evaluated\n"
     ]
    }
   ],
   "source": [
    "#pipeline.py\n",
    "# This script represents the main entry point for the application\n",
    "\n",
    "import pandas as pd\n",
    "from src.model.train_model import load_data, train_model\n",
    "from src.model.evaluate_model import evaluate_model\n",
    "from src.model.predict_model import predict_model\n",
    "from pydantic import BaseModel\n",
    "from config import MODEL_CONFIG\n",
    "\n",
    "def run_api():\n",
    "    uvicorn.run(app, host=\"0.0.0.0\", port=8000)\n",
    "\n",
    "def main():\n",
    "    # Load data\n",
    "    train, test = load_data(train_path='data/train.csv', test_path='data/test.csv')\n",
    "    \n",
    "    # Train the model\n",
    "    target_variable = \"price\"\n",
    "    model = train_model(train, target_variable)\n",
    "\n",
    "    # Test the model\n",
    "    test_predictions = predict_model(model, test[train.columns])\n",
    "    test_target = test[target_variable].values\n",
    "    \n",
    "    # Evaluate the model\n",
    "    evaluate_model(model, test_predictions, test_target)\n",
    "     \n",
    "        \n",
    "if __name__ == \"__main__\":\n",
    "    main()"
   ]
  }
 ],
 "metadata": {
  "kernelspec": {
   "display_name": "Python 3 (ipykernel)",
   "language": "python",
   "name": "python3"
  },
  "language_info": {
   "codemirror_mode": {
    "name": "ipython",
    "version": 3
   },
   "file_extension": ".py",
   "mimetype": "text/x-python",
   "name": "python",
   "nbconvert_exporter": "python",
   "pygments_lexer": "ipython3",
   "version": "3.11.4"
  }
 },
 "nbformat": 4,
 "nbformat_minor": 5
}
